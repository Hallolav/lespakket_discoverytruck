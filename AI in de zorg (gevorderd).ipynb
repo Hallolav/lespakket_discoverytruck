{
 "cells": [
  {
   "cell_type": "markdown",
   "metadata": {},
   "source": [
    "# AI in de zorg\n",
    "\n",
    "## Introductie\n",
    "\n",
    "Welkom! Je kruipt vandaag in de huid van datawetenschapper. Een dokter heeft je gevraagd om een computerprogramma te schrijven dat haar helpt om haar patiënten te verdelen in twee groepen: overgewicht en ondergewicht. De dokter heeft van 50 patiënten de lengte en gewicht opgeschreven en ze heeft bepaald of deze mensen overgewicht hebben. Ze merkte echter dat het heel veel tijd kost om te bepalen of iemand overgewicht heeft - dus ze vroeg jou (een AI-expert) om hulp.\n",
    "\n",
    "Je gaat dus zometeen zelf aan de slag met artificial intelligence (AI). En dat klinkt heel erg spannend, helemaal als je niet zo veel programmeer-ervaring hebt. Maar maak je geen zorgen: ik leg alles wat je doet stap voor stap uit.\n",
    "\n",
    "Om bij het begin te beginnen: wat je nu voor je heet heet een \"notebook\". Met zo'n notebook kun stukken tekst laten zien, maar ook programmeren in een taal genaamd \"Python\" - daar heb je misschien wel eens van gehoord. Het is een van de populairste programmeertalen tegenwoordig. Weet je al hoe programmeren in Python notebooks werkt? Dan mag je de rest van de introductie overslaan en doorgaan naar de sectie _Aan de slag!_\n",
    "\n",
    "Een code-blok ziet eruit zoals hieronder. Zet je cursor in het code-blokje en druk op `CTRL+ENTER` om alle code in het vakje te runnen:"
   ]
  },
  {
   "cell_type": "code",
   "execution_count": 2,
   "metadata": {},
   "outputs": [
    {
     "name": "stdout",
     "output_type": "stream",
     "text": [
      "8\n"
     ]
    }
   ],
   "source": [
    "print(5 + 3)"
   ]
  },
  {
   "cell_type": "markdown",
   "metadata": {},
   "source": [
    "Je kunt in Python variabelen een naam geven en een waarde. Dat gaat bijvoorbeeld zo:"
   ]
  },
  {
   "cell_type": "code",
   "execution_count": 3,
   "metadata": {},
   "outputs": [
    {
     "name": "stdout",
     "output_type": "stream",
     "text": [
      "50\n"
     ]
    }
   ],
   "source": [
    "getal1 = 5\n",
    "getal2 = 10\n",
    "\n",
    "print(getal1 * getal2)"
   ]
  },
  {
   "cell_type": "markdown",
   "metadata": {},
   "source": [
    "En weetje wat nou helemaal mooi is? Python onthoudt de variabelen voor je als je naar een ander vakje gaat! Probeer hieronder maar eens om nogmaals `getal1` te printen:"
   ]
  },
  {
   "cell_type": "code",
   "execution_count": 4,
   "metadata": {},
   "outputs": [
    {
     "name": "stdout",
     "output_type": "stream",
     "text": [
      "5\n"
     ]
    }
   ],
   "source": [
    "print(getal1)"
   ]
  },
  {
   "cell_type": "markdown",
   "metadata": {},
   "source": [
    "Je kunt variabelen ook \"overschrijven\". Als je een variabele verandert, dan bestaat de oude waarde niet meer - en die kun je op geen enkele manier terugkrijgen. Zo'n voorbeeld zie je hier:"
   ]
  },
  {
   "cell_type": "code",
   "execution_count": 5,
   "metadata": {},
   "outputs": [
    {
     "name": "stdout",
     "output_type": "stream",
     "text": [
      "10\n",
      "20\n"
     ]
    }
   ],
   "source": [
    "print(getal2)\n",
    "\n",
    "getal2 = 20\n",
    "print(getal2)"
   ]
  },
  {
   "cell_type": "markdown",
   "metadata": {},
   "source": [
    "Mocht je ergens in dit werkboek vastlopen of per ongeluk je data verwijderen, dan geef ik als tip: begin gewoon opnieuw door op het knopje \"restart\" te drukken, bovenaan de pagina. Het geheugen van Python wordt dan gewist, en je kunt weer opnieuw beginnen. Probeer maar eens op restart te drukken en daarna de code hieronder te runnen. Je zult een error krijgen omdat Python als het ware \"vergeten\" is wat de waarde van `getal2` is."
   ]
  },
  {
   "cell_type": "code",
   "execution_count": 6,
   "metadata": {},
   "outputs": [
    {
     "name": "stdout",
     "output_type": "stream",
     "text": [
      "20\n"
     ]
    }
   ],
   "source": [
    "print(getal2)"
   ]
  },
  {
   "cell_type": "markdown",
   "metadata": {},
   "source": [
    "Naast variabelen, kun je in Python functies definiëren. Een functie is een stukje code dat je kunt maken en aanroepen wanneer je het nodig hebt. Zo hoef je niet telkens hetzelfde stukje code opnieuw te schrijven. Je kunt dan gewoon de functie gebruiken. Een functie definiëer je met het woordje `def` en je gebruikt een dubbele punt om te laten zien dat de functie begint. Tot slot gebruik je `return` om een getal terug te geven:"
   ]
  },
  {
   "cell_type": "code",
   "execution_count": 7,
   "metadata": {},
   "outputs": [
    {
     "name": "stdout",
     "output_type": "stream",
     "text": [
      "105.0\n"
     ]
    }
   ],
   "source": [
    "def mijn_functie_om_te_delen(getal1, getal2):\n",
    "    uitkomst = getal1 / getal2\n",
    "    return uitkomst\n",
    "\n",
    "def mijn_functie_om_te_kwadrateren(getal1):\n",
    "    uitkomst = getal1 ** 2\n",
    "    return uitkomst\n",
    "\n",
    "getal1 = mijn_functie_om_te_delen(10, 2)\n",
    "getal2 = mijn_functie_om_te_kwadrateren(10)\n",
    "\n",
    "print(getal1 + getal2)"
   ]
  },
  {
   "cell_type": "markdown",
   "metadata": {},
   "source": [
    "Je hoeft gelukkig niet alle functies zelf te definiëren. In Python gebruikt men _packages_. Die kun je zien als stukjes code die iemand anders al heeft geschreven. Het enige dat je hoeft te doen, is zo'n package inladen in je geheugen in Python. In het voorbeeld laden we de package `math`, waarin complexere wiskundige formules geprogrammeerd zijn. We kunnen de functie `sqrt()` (worteltrekken) uit dit package gebruiken als volgt:\n"
   ]
  },
  {
   "cell_type": "code",
   "execution_count": 8,
   "metadata": {},
   "outputs": [
    {
     "name": "stdout",
     "output_type": "stream",
     "text": [
      "10.0\n"
     ]
    }
   ],
   "source": [
    "import math\n",
    "\n",
    "wortel = math.sqrt(100)\n",
    "print(wortel)"
   ]
  },
  {
   "cell_type": "markdown",
   "metadata": {},
   "source": [
    "Aan het einde van deze introductie geef ik een lijstje met stukjes code in Python die handig kunnen zijn tijdens de opdracht. Zoek voor elk voorbeeld uit wat het doet en discussiëer met je groepje wat er precies gebeurt. De stukjes code kunnen van pas komen in dit werkboek:"
   ]
  },
  {
   "cell_type": "code",
   "execution_count": 9,
   "metadata": {},
   "outputs": [
    {
     "name": "stdout",
     "output_type": "stream",
     "text": [
      "lijst:\n",
      "[1, 2, 3, 4, 5]\n",
      "[1, 2, 3, 4, 5, 7]\n",
      "----------------------------------\n",
      "som:\n",
      "22\n",
      "----------------------------------\n",
      "lengte:\n",
      "6\n",
      "----------------------------------\n",
      "for loop:\n",
      "0\n",
      "1\n",
      "2\n",
      "3\n",
      "4\n",
      "6\n",
      "----------------------------------\n",
      "som van kwadraten:\n",
      "104\n"
     ]
    }
   ],
   "source": [
    "# Dit is een comment. Dat is een stukje code dat Python negeert. Je maakt een comment door een hashtag voor de regel te zetten.\n",
    "# In het eerste stukje code maken we een lijst. Daaraan voegen we een nummer toe met de append-functie:\n",
    "lijst = [1, 2, 3, 4, 5]\n",
    "print('lijst:')\n",
    "print(lijst)\n",
    "lijst.append(7)\n",
    "print(lijst)\n",
    "print('----------------------------------')\n",
    "\n",
    "# We kunnen alle nummers in een lijst makkelijk bij elkaar optellen:\n",
    "print('som:')\n",
    "som = sum(lijst)\n",
    "print(som)\n",
    "print('----------------------------------')\n",
    "\n",
    "# Het is ook mogelijk om te meten hoe lang een lijst is:\n",
    "print('lengte:')\n",
    "lengte_van_lijst = len(lijst)\n",
    "print(lengte_van_lijst)\n",
    "print('----------------------------------')\n",
    "\n",
    "# Dit stukje heet een \"for loop\". Je voert het zelfde stukje code uit voor elk getal in de lijst:\n",
    "print('for loop:')\n",
    "for nummer in lijst:\n",
    "    print(nummer - 1)\n",
    "print('----------------------------------')\n",
    "\n",
    "# Tot slot een manier om de som van de kwadraten te berekenen.\n",
    "print('som van kwadraten:')\n",
    "som_van_kwadraten = 0\n",
    "for nummer in lijst:\n",
    "    som_van_kwadraten = som_van_kwadraten + mijn_functie_om_te_kwadrateren(nummer)\n",
    "print(som_van_kwadraten)\n"
   ]
  },
  {
   "cell_type": "markdown",
   "metadata": {},
   "source": [
    "## Aan de slag!\n",
    "Je kruipt vandaag in de huid van een datawetenschapper bij het UMCG. Een dokter heeft jou gebeld met de vraag om een computerprogramma te schrijven dat haar helpt om haar patiënten te verdelen in twee groepen: overgewicht en ondergewicht. De dokter heeft van 50 patiënten de lengte en gewicht opgeschreven en ze heeft bepaald of deze mensen overgewicht hebben. Ze merkte echter dat het heel veel tijd kost om te bepalen of iemand overgewicht heeft - dus ze vroeg jou (een AI-expert) om hulp.\n",
    "\n",
    "Jouw uiteindelijke opdracht: bepaal van vijf personen of ze wel of geen ondergewicht hebben. Je gaat dat in deze les doen met de _perceptron_ aan de hand van de gegevens die al bekend zijn.  In de kolom \"overgewicht\" vind je _NaN_. Die afkorting staat voor \"not a number\" en data-wetenschappers gebruiken dat om aan te geven dat het getal mist, dat eigenlijk op die plek zou moeten doen. De data van de vijf test-personen vind je als je `test_data` hieronder definiëert een print:"
   ]
  },
  {
   "cell_type": "code",
   "execution_count": 11,
   "metadata": {},
   "outputs": [
    {
     "name": "stdout",
     "output_type": "stream",
     "text": [
      "   gewicht  lengte  overgewicht\n",
      "0       70     152          NaN\n",
      "1       72     180          NaN\n",
      "2       71     161          NaN\n",
      "3       50     167          NaN\n",
      "4       77     191          NaN\n"
     ]
    }
   ],
   "source": [
    "import pandas\n",
    "import numpy\n",
    "\n",
    "test_data = pandas.DataFrame({\n",
    "    'gewicht': [70,  72,  71,  50,  77],\n",
    "    'lengte':  [152, 180, 161, 167, 191],\n",
    "    'overgewicht': [numpy.nan] * 5\n",
    "})\n",
    "\n",
    "print(test_data)\n"
   ]
  },
  {
   "cell_type": "markdown",
   "metadata": {},
   "source": [
    "Je hebt in vogelvlucht gezien hoe Python werkt, dus je kunt als het goed is aan de slag in je groepje. Ik leg hieronder stap voor wat we doen in elke stap. We beginnen met een aantal functies inladen die ik zelf al vast heb geschreven. Die hoef je zelf dus niet meer te schrijven! Je moet de functie nog wel inladen en dat doe je door CTRL + enter in te drukken, net zoals met de code-blokken hierboven."
   ]
  },
  {
   "cell_type": "code",
   "execution_count": 1,
   "metadata": {},
   "outputs": [],
   "source": [
    "import random\n",
    "import matplotlib.pyplot as plt\n",
    "import pandas as pd\n",
    "\n",
    "from AI_helpers import genereer_data, visualiseer_data, visualiseer_voorspelling, update_gewichten, maak_voorspelling\n",
    "# from AI_helpers import gemiddelde, standaard_deviatie\n"
   ]
  },
  {
   "cell_type": "markdown",
   "metadata": {},
   "source": [
    "Je kunt nu je eigen dataset genereren. Iedereen krijgt data die ietsje verschillend is. In de dataset die je krijgt, vind je drie waarden: lengte, gewicht en overgewicht. Bekijk hieronder je eigen data. Valt je iets op als je er naar kijkt? Zijn er veel mensen met overgewicht? Wat denk je dat 0 betekent en wat is 1?"
   ]
  },
  {
   "cell_type": "code",
   "execution_count": 2,
   "metadata": {},
   "outputs": [
    {
     "name": "stdout",
     "output_type": "stream",
     "text": [
      "      gewicht      lengte  overgewicht\n",
      "0   64.536518  136.664728            1\n",
      "1   62.262153  187.774518            0\n",
      "2   68.812147  163.546152            0\n",
      "3   61.433467  165.028915            0\n",
      "4   72.580061  171.051367            0\n",
      "5   71.696834  184.112469            0\n",
      "6   66.163101  171.830669            0\n",
      "7   70.978207  169.536893            0\n",
      "8   67.803799  164.629030            0\n",
      "9   66.825783  174.452461            0\n",
      "10  73.485468  158.175619            1\n",
      "11  73.349194  182.968261            0\n",
      "12  76.041077  158.313506            1\n",
      "13  70.256334  158.117141            1\n",
      "14  64.611019  175.659661            0\n",
      "15  64.561549  156.417966            0\n",
      "16  66.184275  157.363519            0\n",
      "17  64.228284  155.607843            0\n",
      "18  59.880005  182.169085            0\n",
      "19  63.767926  175.525073            0\n",
      "20  77.774287  185.851087            0\n",
      "21  61.246003  159.712871            0\n",
      "22  58.073965  141.979384            0\n",
      "23  68.425442  141.143100            1\n",
      "24  66.980650  162.008573            0\n",
      "25  62.585155  168.652742            0\n",
      "26  51.277187  159.583946            0\n",
      "27  68.839013  158.174634            1\n",
      "28  69.769650  155.771624            1\n",
      "29  73.281989  159.909551            1\n",
      "30  61.016173  159.183442            0\n",
      "31  71.354775  171.134284            0\n",
      "32  76.436032  151.982227            1\n",
      "33  66.923453  170.862644            0\n",
      "34  65.237625  180.964024            0\n",
      "35  60.421435  187.900402            0\n",
      "36  65.714842  176.806080            0\n",
      "37  74.411977  160.659599            1\n",
      "38  74.295691  176.154988            0\n",
      "39  58.282505  166.181074            0\n",
      "40  73.204788  155.960866            1\n",
      "41  54.295483  180.055402            0\n",
      "42  72.094910  184.138356            0\n",
      "43  69.852432  170.995153            0\n",
      "44  69.884120  180.959334            0\n",
      "45  66.229848  156.708103            0\n",
      "46  62.353983  176.612652            0\n",
      "47  57.325996  172.244960            0\n",
      "48  67.288233  174.628777            0\n",
      "49  75.898973  161.856836            1\n"
     ]
    }
   ],
   "source": [
    "patient_data = genereer_data()\n",
    "print(patient_data)"
   ]
  },
  {
   "cell_type": "markdown",
   "metadata": {},
   "source": [
    "Het is op basis van een tabel altijd lastig om patronen te herkennen. Een grafiekje kan soms makkelijker zijn. Gebruik de code hieronder om een grafiek te maken van je eigen data. Is het makkelijker om hieruit een conclusie te trekken? Wat denk je nu dat 0 betekent, en wat is 1?"
   ]
  },
  {
   "cell_type": "code",
   "execution_count": 13,
   "metadata": {},
   "outputs": [
    {
     "data": {
      "image/png": "[encoded data removed]",
      "text/plain": [
       "<Figure size 432x288 with 1 Axes>"
      ]
     },
     "metadata": {
      "needs_background": "light"
     },
     "output_type": "display_data"
    }
   ],
   "source": [
    "visualiseer_data(patient_data)"
   ]
  },
  {
   "cell_type": "markdown",
   "metadata": {},
   "source": [
    "De lengte (rond de 170) is ongeveer twee keer zo groot gewicht (ongeveer rond 70) en daarvan raakt de perceptron in de war. En ook is het bereik een stuk groter bij lengte dan bij gewicht: de patienten zijn tussen de 150 en 200 cm (verschil van 50), maar wegen tussen 60 en 90 kilo (verschil van 30). Ook daar kan de perceptron niet goed mee om gaan.\n",
    "\n",
    "Om de perceptron te kunnen gebruiken, moeten data _genormaliseerd_ worden: beide variabelen moeten gemiddelde 0 en standaarddeviatie 1 hebben. Je kunt de standaarddeviatie zien als \"het gemiddelde verschil tussen een meetwaarde en het gemiddelde\". Als je één datapunt $X_i$ hebt, gaat het normaliseren als volgt:\n",
    "\n",
    "$Z_i = \\frac{(X_i - \\bar{X})}{\\sigma_X}$\n",
    "\n",
    "Daarin betekent $Z_i$ zoiets als \"de genormaliseerde versie van $X_i$\". De variabele $\\bar{X}$ is het gemiddelde en $\\sigma_X$ is de standaarddeviatie van variabele $X$. Schrijf de code af, zodat `gemiddelde(meetwaarden)` het gemiddelde geeft een meetwaarde getallen, en zodat `standaard_deviatie(meetwaarden)` de standaarddeviatie geeft. Jouw functie wordt daaronder gebruikt om de data te normaliseren. Je kunt de volgende formules gebruiken om gemiddelde en standaarddeviatie te berekenen: $\\bar{X} = \\frac{1}{n}\\sum_{i=1}^nX_i$ en $\\sigma_X = \\sqrt{\\frac{1}{n-1} \\sum_{i=1}^n (X_i - \\bar{X})^2}$"
   ]
  },
  {
   "cell_type": "code",
   "execution_count": 14,
   "metadata": {},
   "outputs": [
    {
     "name": "stdout",
     "output_type": "stream",
     "text": [
      "Ellipsis\n",
      "Ellipsis\n"
     ]
    }
   ],
   "source": [
    "# Hieronder vind je een lijst met meetwaarden. Aan de hand van deze getallen kun\n",
    "# je jouw functies voor gemiddelde en standaarddeviatie testen.\n",
    "metingen = [29.6, 31.5, 28.7, 32.0, 29.4, 30.4, 26.5, 27.3, 33.2, 32.9]\n",
    "\n",
    "# Maak de functie af om het gemiddelde te berekenen. Test je formule op de lijst.\n",
    "# De uitkomst moet 30.15 zijn:\n",
    "def gemiddelde(meetwaarden):\n",
    "    return ...\n",
    "\n",
    "print(gemiddelde(metingen))\n",
    "\n",
    "# maak de functie af om standaarddeviatie te berekenen. Test je formule op de\n",
    "# lijst. De uitkomst moet 5.18 zijn.\n",
    "def standaard_deviatie(meetwaarden):\n",
    "    return ...\n",
    "\n",
    "\n",
    "print(standaard_deviatie(metingen))\n"
   ]
  },
  {
   "cell_type": "markdown",
   "metadata": {},
   "source": [
    "Gebruik jouw functies om de meetwaarden te normaliseren:"
   ]
  },
  {
   "cell_type": "code",
   "execution_count": 3,
   "metadata": {},
   "outputs": [
    {
     "data": {
      "image/png": "[encoded data removed]",
      "text/plain": [
       "<Figure size 432x288 with 1 Axes>"
      ]
     },
     "metadata": {
      "needs_background": "light"
     },
     "output_type": "display_data"
    }
   ],
   "source": [
    "def normaliseer_data(data):\n",
    "    if 'lengte' not in data.columns:\n",
    "        raise ValueError('Data onjuist. Bevat geen kolom met lengte.')\n",
    "    elif 'gewicht' not in data.columns:\n",
    "        raise ValueError('Data onjuist. Bevat geen kolom met gewicht.')\n",
    "    \n",
    "    genormaliseerde_data = data.copy()\n",
    "    for colname in ['lengte', 'gewicht']:\n",
    "        genormaliseerde_data[colname] = (genormaliseerde_data[colname] - gemiddelde(data[colname])) / standaard_deviatie(data[colname])\n",
    "        \n",
    "    return genormaliseerde_data\n",
    "\n",
    "data = normaliseer_data(patient_data)\n",
    "visualiseer_data(data)"
   ]
  },
  {
   "cell_type": "markdown",
   "metadata": {},
   "source": [
    "De perceptron weet in eerste instantie niet of iemand overgewicht heeft of niet. Maar door vaak genoeg de verschillende voorbeelden met elkaar te vergelijken, kan perceptron uiteindelijk wel het onderscheid maken tussen de mensen uit beide categorieën. Om dat te kunnen doen, zijn er 3 parameters nodig: `b`, `l` en `g`. Kies zelf waarden voor de parameters. Wat gebeurt er met de voorspelling als je de getallen verandert? Hebben alle parameters invloed op de voorspelling?"
   ]
  },
  {
   "cell_type": "code",
   "execution_count": 4,
   "metadata": {},
   "outputs": [
    {
     "data": {
      "image/png": "[encoded data removed]",
      "text/plain": [
       "<Figure size 432x288 with 1 Axes>"
      ]
     },
     "metadata": {
      "needs_background": "light"
     },
     "output_type": "display_data"
    }
   ],
   "source": [
    "b = 0.3\n",
    "l = -0.4\n",
    "g = -0.1\n",
    "\n",
    "data = maak_voorspelling(data, b, l, g)\n",
    "visualiseer_voorspelling(data, titel = f\"Met $b={b}$, $l={l}$ en $g={g}$, zijn {sum(data['voorspelling'] != data['overgewicht'])} van de {data.shape[0]} voorspellingen verkeerd.\")"
   ]
  },
  {
   "cell_type": "markdown",
   "metadata": {},
   "source": [
    "Hierboven heb je een voorspelling gedaan over de 50 patiënten in jouw dataset door met de hand de parameters te kiezen. Door met de parameters te spelen, kun je jouw voorspelling steeds beter maken. Dit gebeurt met Perceptron ook: de parameters worden op een \"slimme\" manier veranderd waardoor de voorspelling elke keer beter wordt. De verandering is kleiner als de eerste gok goed is. De eerste gok noemt men de _initialisatie_ van de parameters. Over het algemeen geldt: hoe beter de initialisatie, hoe minder er veranderd hoeft te worden aan de gewichten. Probeer het hieronder zelf!\n",
    "\n",
    "Gebruik eerste een \"slechte\" eerste voorspelling. Ongeveer de helft van alle patiënten worden verkeerd voorspeld door de perceptron. Hoeveel veranderen de parameters? \n",
    "\n",
    "Gebruik daarna een \"goede\" eerste voorspelling. Perceptron weet van bijna alle patiënten juist te bepalen of ze wel of geen overgewicht hebben. Hoeveel veranderen de parameters nu? Is dat meer of minder dan met de slechte initialisatie?"
   ]
  },
  {
   "cell_type": "code",
   "execution_count": 5,
   "metadata": {},
   "outputs": [
    {
     "name": "stdout",
     "output_type": "stream",
     "text": [
      "Na één update, zijn de parameters b=0.02, l=-0.39 en g=0.03\n"
     ]
    },
    {
     "data": {
      "image/png": "[encoded data removed]",
      "text/plain": [
       "<Figure size 432x288 with 1 Axes>"
      ]
     },
     "metadata": {
      "needs_background": "light"
     },
     "output_type": "display_data"
    }
   ],
   "source": [
    "# gebruik eerst een slechte initialisatie:...\n",
    "b = 0.3\n",
    "l = -0.4\n",
    "g = -0.1\n",
    "\n",
    "data = maak_voorspelling(data, b, l, g)\n",
    "visualiseer_voorspelling(data, titel = f\"Met $b={round(b, 2)}$, $l={round(l, 2)}$ en $g={round(g, 2)}$, zijn {sum(data['voorspelling'] != data['overgewicht'])} van de {data.shape[0]} voorspellingen verkeerd.\")\n",
    "b, l, g = update_gewichten(data, b, l, g)\n",
    "print(f'Na één update, zijn de parameters b={round(b, 2)}, l={round(l,2)} en g={round(g,2)}')\n",
    "\n"
   ]
  },
  {
   "cell_type": "code",
   "execution_count": 6,
   "metadata": {},
   "outputs": [
    {
     "name": "stdout",
     "output_type": "stream",
     "text": [
      "Na één update, zijn de parameters b=-0.16, l=-0.17 en g=0.18\n"
     ]
    },
    {
     "data": {
      "image/png": "[encoded data removed]",
      "text/plain": [
       "<Figure size 432x288 with 1 Axes>"
      ]
     },
     "metadata": {
      "needs_background": "light"
     },
     "output_type": "display_data"
    }
   ],
   "source": [
    "# ...en gebruik een goede initialisatie:\n",
    "b = -1/7\n",
    "l = -1/5\n",
    "g = 1/6\n",
    "\n",
    "data = maak_voorspelling(data, b, l, g)\n",
    "visualiseer_voorspelling(data, titel = f\"Met $b={round(b, 2)}$, $l={round(l, 2)}$ en $g={round(g, 2)}$, zijn slechts {sum(data['voorspelling'] != data['overgewicht'])} van de {data.shape[0]} voorspellingen verkeerd.\")\n",
    "b, l, g = update_gewichten(data, b, l, g)\n",
    "print(f'Na één update, zijn de parameters b={round(b, 2)}, l={round(l,2)} en g={round(g,2)}')\n"
   ]
  },
  {
   "cell_type": "markdown",
   "metadata": {},
   "source": [
    "Het complete perceptron-algoritme bestaat uit een aantal stappen:\n",
    "\n",
    "1. Initialisatie (doe een gok voor de parameters b, l en g);\n",
    "2. Classificeer de patiënten in overgewicht/gezond gewicht gebaseerd op de parameters zoals je hierboven gedaan hebt. Als alle voorspellingen kloppen, ga naar stap 5;\n",
    "2. Update de parameters zoals je hierboven gedaan hebt;\n",
    "2. Terug naar stap 2;\n",
    "2. Klaar!\n",
    "\n",
    "Het perceptron-algoritme blijft dus parameters updaten, totdat de voorspelling helemaal juist is. In het begin worden de parameters meer veranderd daan aan het einde. Dat is omdat de parameters minder worden geüpdate voor betere voorspellingen - zoals je hierboven hebt gezien. \n",
    "\n",
    "Hieronder wordt de perceptron helemaal uitgevoerd. In het code-blokje daaronder kun je met de slider spelen om te kijken wat de voorspellingen in verschillende stappen waren, en hoe goed de voorspelling toen was:"
   ]
  },
  {
   "cell_type": "code",
   "execution_count": 7,
   "metadata": {},
   "outputs": [
    {
     "name": "stdout",
     "output_type": "stream",
     "text": [
      "Na 42 updates zijn alle voorspellingen juist en zijn de parameters b=-0.14, l=-0.16 en g=0.13\n"
     ]
    }
   ],
   "source": [
    "b = 0.3\n",
    "l = -0.4\n",
    "g = -0.1\n",
    "\n",
    "voorspellingen = dict()\n",
    "parameters = dict()\n",
    "for i in range(100):\n",
    "    # Doe een voorspelling op basis van de parameters en update de parameters:\n",
    "    data = maak_voorspelling(data, b, l, g)\n",
    "    b, l, g = update_gewichten(data, b, l, g, eta = 0.001)\n",
    "    \n",
    "    # sla de voorspelling en de parameters op zodat we later kunnen terugkijken wat de voorspelling was:\n",
    "    voorspellingen[i] = data.copy()\n",
    "    parameters[i] = {'b': b, 'l': l, 'g': g}\n",
    "    \n",
    "    # Als alle voorspellingen juist zijn, stop dan met de for-loop:\n",
    "    if sum(data['voorspelling'] != data['overgewicht']) == 0:\n",
    "        print(f'Na {i} updates zijn alle voorspellingen juist en zijn de parameters b={round(b, 2)}, l={round(l,2)} en g={round(g,2)}')\n",
    "        break"
   ]
  },
  {
   "cell_type": "code",
   "execution_count": 8,
   "metadata": {},
   "outputs": [
    {
     "data": {
      "application/vnd.jupyter.widget-view+json": {
       "model_id": "ce558693473847089ed9709e5a3cf5c6",
       "version_major": 2,
       "version_minor": 0
      },
      "text/plain": [
       "interactive(children=(IntSlider(value=21, description='n', max=42), Output()), _dom_classes=('widget-interact'…"
      ]
     },
     "metadata": {},
     "output_type": "display_data"
    }
   ],
   "source": [
    "import ipywidgets as widgets\n",
    "from ipywidgets import interact, interact_manual\n",
    "\n",
    "@interact\n",
    "def show_plot(n=(0, len(voorspellingen) -1, 1)):\n",
    "    sdata = voorspellingen[n]\n",
    "    params = parameters[n]\n",
    "    visualiseer_voorspelling(sdata, titel = f\"Na {n} updates, waren de parameters $b={round(params['b'], 2)}$, $l={round(params['l'], 2)}$ en $g = {round(params['g'], 2)}$. Van de {sdata.shape[0]} voorspellingen, ging {sum(sdata['voorspelling'] != sdata['overgewicht'])} fout ({sum(sdata['voorspelling'] != sdata['overgewicht']) / sdata.shape[0] * 100}%)\")"
   ]
  },
  {
   "cell_type": "markdown",
   "metadata": {},
   "source": [
    "Hieronder vind je de waarden van de parameters naarmate perceptron meer stappen heeft doorlopen. Hoe veranderen de parameters over de tijd? Wanneer is de verandering groot, en wanneer is die klein? En hoe groot zijn de parameters aan het einde? "
   ]
  },
  {
   "cell_type": "code",
   "execution_count": 9,
   "metadata": {},
   "outputs": [
    {
     "data": {
      "image/png": "[encoded data removed]",
      "text/plain": [
       "<Figure size 432x288 with 1 Axes>"
      ]
     },
     "metadata": {
      "needs_background": "light"
     },
     "output_type": "display_data"
    }
   ],
   "source": [
    "import matplotlib.pyplot as plt\n",
    "\n",
    "params = pd.DataFrame({\n",
    "    'b': [parameters[i]['b'] for i in range(len(parameters))],\n",
    "    'l': [parameters[i]['l'] for i in range(len(parameters))],\n",
    "    'g': [parameters[i]['g'] for i in range(len(parameters))]\n",
    "})\n",
    "\n",
    "fig, ax = plt.subplots(1,1)\n",
    "ax.plot(params['b'], label = 'b')\n",
    "ax.plot(params['l'], label = 'l')\n",
    "ax.plot(params['g'], label = 'g')\n",
    "\n",
    "ax.set_ylim(-0.5,.3)\n",
    "ax.set_xlabel('Aantal updates in perceptron algoritme')\n",
    "ax.set_ylabel('Waarde van de parameter')\n",
    "fig.legend()\n",
    "\n",
    "plt.show()"
   ]
  },
  {
   "cell_type": "markdown",
   "metadata": {},
   "source": [
    "Tot slot gaan we terug naar de vraag van de dokter. Je hebt het perceptron-algoritme gebouwd om een voorspelling te doen over nieuwe patienten. De eerste stap is om de data te normaliseren - zoals we dat ook hebben gedaan bij de eerdere data met de formule $Z_i = \\frac{(X_i - \\bar{X})}{\\sigma_X}$. Hier gebruiken we de functie `gemiddelde()` en `standaard_deviatie()` die je zelf hebt geschreven."
   ]
  },
  {
   "cell_type": "code",
   "execution_count": 12,
   "metadata": {},
   "outputs": [
    {
     "name": "stdout",
     "output_type": "stream",
     "text": [
      "   gewicht  lengte  overgewicht\n",
      "0       70     152          NaN\n",
      "1       72     180          NaN\n",
      "2       71     161          NaN\n",
      "3       50     167          NaN\n",
      "4       77     191          NaN\n",
      "    gewicht    lengte  overgewicht\n",
      "0  0.501138 -1.242877          NaN\n",
      "1  0.835752  1.053518          NaN\n",
      "2  0.668445 -0.504750          NaN\n",
      "3 -2.845000 -0.012666          NaN\n",
      "4  1.672287  1.955672          NaN\n"
     ]
    }
   ],
   "source": [
    "genormaliseerde_test_data = test_data.copy()\n",
    "\n",
    "genormaliseerde_test_data['gewicht'] = (genormaliseerde_test_data['gewicht'] - gemiddelde(patient_data['gewicht'])) / standaard_deviatie(patient_data['gewicht'])\n",
    "genormaliseerde_test_data['lengte'] = (genormaliseerde_test_data['lengte'] - gemiddelde(patient_data['lengte'])) / standaard_deviatie(patient_data['lengte'])\n",
    "\n",
    "print(test_data)\n",
    "print(genormaliseerde_test_data)"
   ]
  },
  {
   "cell_type": "markdown",
   "metadata": {},
   "source": [
    "Maak dan een voorspelling met de perceptron voor de laatste patiënten. Gebruik de parameters die je hiervoor gevonden hebt:"
   ]
  },
  {
   "cell_type": "code",
   "execution_count": 13,
   "metadata": {},
   "outputs": [
    {
     "name": "stdout",
     "output_type": "stream",
     "text": [
      "    gewicht    lengte  overgewicht  voorspelling\n",
      "0  0.501138 -1.242877          NaN             1\n",
      "1  0.835752  1.053518          NaN             0\n",
      "2  0.668445 -0.504750          NaN             1\n",
      "3 -2.845000 -0.012666          NaN             0\n",
      "4  1.672287  1.955672          NaN             0\n"
     ]
    }
   ],
   "source": [
    "b = -0.2\n",
    "l = -0.2\n",
    "g = 0.2\n",
    "\n",
    "genormaliseerde_test_data = maak_voorspelling(genormaliseerde_test_data, b, l, g)\n",
    "print(genormaliseerde_test_data)"
   ]
  },
  {
   "cell_type": "markdown",
   "metadata": {},
   "source": [
    "Goed gedaan! Hoewel er niet bekend was of de patiënten overgewicht was, weet de dokter nu wel welke patiënten een gezond gewicht hebben. Door jouw skills als datawetenschapper, kan de dokter patiënten sneller helpen in de toekomst."
   ]
  },
  {
   "cell_type": "markdown",
   "metadata": {},
   "source": [
    "# Bonusvraag\n",
    "\n",
    "Ben je eerder klaar? Of wil je het jezelf een stapje moeilijker maken? Scroll dan een stapje terug naar boven, waar het hele perceptron-algoritme wordt uitgevoerd. Je ziet daar naar `b`, `l` en `g` nog een vierde parameters staan: `eta`. De griekse letter $\\eta$ (spreek uit als \"èta\") wordt gebruikt als leersnelheid. Als $\\eta$ groter is, dan leert het model sneller van voorbeelden. Maar als $\\eta$ te groot is, dan maakt het model plots fouten. Eén van de taken van een datawetenschapper is het kiezen van een gepaste waarde voor $\\eta$. Probeer hierboven verschillende waarden uit. Hoeveel stappen heb je nodig om de perceptron te trainen? Kun je door de leersnelheid te wijzigen een sneller model maken? Wat gebeurt er met de plot van de parameters als $\\eta$ groot is?"
   ]
  }
 ],
 "metadata": {
  "kernelspec": {
   "display_name": "base",
   "language": "python",
   "name": "python3"
  },
  "language_info": {
   "codemirror_mode": {
    "name": "ipython",
    "version": 3
   },
   "file_extension": ".py",
   "mimetype": "text/x-python",
   "name": "python",
   "nbconvert_exporter": "python",
   "pygments_lexer": "ipython3",
   "version": "3.8.8"
  },
  "orig_nbformat": 4
 },
 "nbformat": 4,
 "nbformat_minor": 2
}
